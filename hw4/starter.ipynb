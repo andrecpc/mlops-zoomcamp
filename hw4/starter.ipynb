{
  "cells": [
    {
      "cell_type": "code",
      "execution_count": 1,
      "id": "2c51efaa",
      "metadata": {
        "colab": {
          "base_uri": "https://localhost:8080/"
        },
        "id": "2c51efaa",
        "outputId": "17320d5f-3b3b-4be3-f83f-b440f21c2d35"
      },
      "outputs": [
        {
          "output_type": "stream",
          "name": "stdout",
          "text": [
            "scikit-learn==1.0.2\n"
          ]
        }
      ],
      "source": [
        "!pip freeze | grep scikit-learn"
      ]
    },
    {
      "cell_type": "code",
      "execution_count": 2,
      "id": "0ef880a0",
      "metadata": {
        "id": "0ef880a0"
      },
      "outputs": [],
      "source": [
        "import pickle\n",
        "import pandas as pd"
      ]
    },
    {
      "cell_type": "code",
      "execution_count": 3,
      "id": "7836ccfd",
      "metadata": {
        "id": "7836ccfd"
      },
      "outputs": [],
      "source": [
        "with open('model.bin', 'rb') as f_in:\n",
        "    dv, lr = pickle.load(f_in)"
      ]
    },
    {
      "cell_type": "code",
      "execution_count": 4,
      "id": "41c08294",
      "metadata": {
        "id": "41c08294"
      },
      "outputs": [],
      "source": [
        "categorical = ['PUlocationID', 'DOlocationID']\n",
        "\n",
        "def read_data(filename):\n",
        "    df = pd.read_parquet(filename)\n",
        "    \n",
        "    df['duration'] = df.dropOff_datetime - df.pickup_datetime\n",
        "    df['duration'] = df.duration.dt.total_seconds() / 60\n",
        "\n",
        "    df = df[(df.duration >= 1) & (df.duration <= 60)].copy()\n",
        "\n",
        "    df[categorical] = df[categorical].fillna(-1).astype('int').astype('str')\n",
        "    \n",
        "    return df"
      ]
    },
    {
      "cell_type": "code",
      "execution_count": 5,
      "id": "4854399a",
      "metadata": {
        "id": "4854399a"
      },
      "outputs": [],
      "source": [
        "df = read_data('https://nyc-tlc.s3.amazonaws.com/trip+data/fhv_tripdata_2021-02.parquet')"
      ]
    },
    {
      "cell_type": "code",
      "execution_count": 6,
      "id": "e73f2d5e",
      "metadata": {
        "colab": {
          "base_uri": "https://localhost:8080/",
          "height": 206
        },
        "id": "e73f2d5e",
        "outputId": "965dc0ab-58df-4cc4-d980-34325f83a51a"
      },
      "outputs": [
        {
          "output_type": "execute_result",
          "data": {
            "text/plain": [
              "  dispatching_base_num     pickup_datetime    dropOff_datetime PUlocationID  \\\n",
              "1      B00021          2021-02-01 00:55:40 2021-02-01 01:06:20          173   \n",
              "2      B00021          2021-02-01 00:14:03 2021-02-01 00:28:37          173   \n",
              "3      B00021          2021-02-01 00:27:48 2021-02-01 00:35:45           82   \n",
              "4               B00037 2021-02-01 00:12:50 2021-02-01 00:26:38           -1   \n",
              "5               B00037 2021-02-01 00:00:37 2021-02-01 00:09:35           -1   \n",
              "\n",
              "  DOlocationID SR_Flag Affiliated_base_number   duration  \n",
              "1           82    None        B00021           10.666667  \n",
              "2           56    None        B00021           14.566667  \n",
              "3          129    None        B00021            7.950000  \n",
              "4          225    None                 B00037  13.800000  \n",
              "5           61    None                 B00037   8.966667  "
            ],
            "text/html": [
              "\n",
              "  <div id=\"df-989f6a03-9834-4718-b034-c3d6a897e141\">\n",
              "    <div class=\"colab-df-container\">\n",
              "      <div>\n",
              "<style scoped>\n",
              "    .dataframe tbody tr th:only-of-type {\n",
              "        vertical-align: middle;\n",
              "    }\n",
              "\n",
              "    .dataframe tbody tr th {\n",
              "        vertical-align: top;\n",
              "    }\n",
              "\n",
              "    .dataframe thead th {\n",
              "        text-align: right;\n",
              "    }\n",
              "</style>\n",
              "<table border=\"1\" class=\"dataframe\">\n",
              "  <thead>\n",
              "    <tr style=\"text-align: right;\">\n",
              "      <th></th>\n",
              "      <th>dispatching_base_num</th>\n",
              "      <th>pickup_datetime</th>\n",
              "      <th>dropOff_datetime</th>\n",
              "      <th>PUlocationID</th>\n",
              "      <th>DOlocationID</th>\n",
              "      <th>SR_Flag</th>\n",
              "      <th>Affiliated_base_number</th>\n",
              "      <th>duration</th>\n",
              "    </tr>\n",
              "  </thead>\n",
              "  <tbody>\n",
              "    <tr>\n",
              "      <th>1</th>\n",
              "      <td>B00021</td>\n",
              "      <td>2021-02-01 00:55:40</td>\n",
              "      <td>2021-02-01 01:06:20</td>\n",
              "      <td>173</td>\n",
              "      <td>82</td>\n",
              "      <td>None</td>\n",
              "      <td>B00021</td>\n",
              "      <td>10.666667</td>\n",
              "    </tr>\n",
              "    <tr>\n",
              "      <th>2</th>\n",
              "      <td>B00021</td>\n",
              "      <td>2021-02-01 00:14:03</td>\n",
              "      <td>2021-02-01 00:28:37</td>\n",
              "      <td>173</td>\n",
              "      <td>56</td>\n",
              "      <td>None</td>\n",
              "      <td>B00021</td>\n",
              "      <td>14.566667</td>\n",
              "    </tr>\n",
              "    <tr>\n",
              "      <th>3</th>\n",
              "      <td>B00021</td>\n",
              "      <td>2021-02-01 00:27:48</td>\n",
              "      <td>2021-02-01 00:35:45</td>\n",
              "      <td>82</td>\n",
              "      <td>129</td>\n",
              "      <td>None</td>\n",
              "      <td>B00021</td>\n",
              "      <td>7.950000</td>\n",
              "    </tr>\n",
              "    <tr>\n",
              "      <th>4</th>\n",
              "      <td>B00037</td>\n",
              "      <td>2021-02-01 00:12:50</td>\n",
              "      <td>2021-02-01 00:26:38</td>\n",
              "      <td>-1</td>\n",
              "      <td>225</td>\n",
              "      <td>None</td>\n",
              "      <td>B00037</td>\n",
              "      <td>13.800000</td>\n",
              "    </tr>\n",
              "    <tr>\n",
              "      <th>5</th>\n",
              "      <td>B00037</td>\n",
              "      <td>2021-02-01 00:00:37</td>\n",
              "      <td>2021-02-01 00:09:35</td>\n",
              "      <td>-1</td>\n",
              "      <td>61</td>\n",
              "      <td>None</td>\n",
              "      <td>B00037</td>\n",
              "      <td>8.966667</td>\n",
              "    </tr>\n",
              "  </tbody>\n",
              "</table>\n",
              "</div>\n",
              "      <button class=\"colab-df-convert\" onclick=\"convertToInteractive('df-989f6a03-9834-4718-b034-c3d6a897e141')\"\n",
              "              title=\"Convert this dataframe to an interactive table.\"\n",
              "              style=\"display:none;\">\n",
              "        \n",
              "  <svg xmlns=\"http://www.w3.org/2000/svg\" height=\"24px\"viewBox=\"0 0 24 24\"\n",
              "       width=\"24px\">\n",
              "    <path d=\"M0 0h24v24H0V0z\" fill=\"none\"/>\n",
              "    <path d=\"M18.56 5.44l.94 2.06.94-2.06 2.06-.94-2.06-.94-.94-2.06-.94 2.06-2.06.94zm-11 1L8.5 8.5l.94-2.06 2.06-.94-2.06-.94L8.5 2.5l-.94 2.06-2.06.94zm10 10l.94 2.06.94-2.06 2.06-.94-2.06-.94-.94-2.06-.94 2.06-2.06.94z\"/><path d=\"M17.41 7.96l-1.37-1.37c-.4-.4-.92-.59-1.43-.59-.52 0-1.04.2-1.43.59L10.3 9.45l-7.72 7.72c-.78.78-.78 2.05 0 2.83L4 21.41c.39.39.9.59 1.41.59.51 0 1.02-.2 1.41-.59l7.78-7.78 2.81-2.81c.8-.78.8-2.07 0-2.86zM5.41 20L4 18.59l7.72-7.72 1.47 1.35L5.41 20z\"/>\n",
              "  </svg>\n",
              "      </button>\n",
              "      \n",
              "  <style>\n",
              "    .colab-df-container {\n",
              "      display:flex;\n",
              "      flex-wrap:wrap;\n",
              "      gap: 12px;\n",
              "    }\n",
              "\n",
              "    .colab-df-convert {\n",
              "      background-color: #E8F0FE;\n",
              "      border: none;\n",
              "      border-radius: 50%;\n",
              "      cursor: pointer;\n",
              "      display: none;\n",
              "      fill: #1967D2;\n",
              "      height: 32px;\n",
              "      padding: 0 0 0 0;\n",
              "      width: 32px;\n",
              "    }\n",
              "\n",
              "    .colab-df-convert:hover {\n",
              "      background-color: #E2EBFA;\n",
              "      box-shadow: 0px 1px 2px rgba(60, 64, 67, 0.3), 0px 1px 3px 1px rgba(60, 64, 67, 0.15);\n",
              "      fill: #174EA6;\n",
              "    }\n",
              "\n",
              "    [theme=dark] .colab-df-convert {\n",
              "      background-color: #3B4455;\n",
              "      fill: #D2E3FC;\n",
              "    }\n",
              "\n",
              "    [theme=dark] .colab-df-convert:hover {\n",
              "      background-color: #434B5C;\n",
              "      box-shadow: 0px 1px 3px 1px rgba(0, 0, 0, 0.15);\n",
              "      filter: drop-shadow(0px 1px 2px rgba(0, 0, 0, 0.3));\n",
              "      fill: #FFFFFF;\n",
              "    }\n",
              "  </style>\n",
              "\n",
              "      <script>\n",
              "        const buttonEl =\n",
              "          document.querySelector('#df-989f6a03-9834-4718-b034-c3d6a897e141 button.colab-df-convert');\n",
              "        buttonEl.style.display =\n",
              "          google.colab.kernel.accessAllowed ? 'block' : 'none';\n",
              "\n",
              "        async function convertToInteractive(key) {\n",
              "          const element = document.querySelector('#df-989f6a03-9834-4718-b034-c3d6a897e141');\n",
              "          const dataTable =\n",
              "            await google.colab.kernel.invokeFunction('convertToInteractive',\n",
              "                                                     [key], {});\n",
              "          if (!dataTable) return;\n",
              "\n",
              "          const docLinkHtml = 'Like what you see? Visit the ' +\n",
              "            '<a target=\"_blank\" href=https://colab.research.google.com/notebooks/data_table.ipynb>data table notebook</a>'\n",
              "            + ' to learn more about interactive tables.';\n",
              "          element.innerHTML = '';\n",
              "          dataTable['output_type'] = 'display_data';\n",
              "          await google.colab.output.renderOutput(dataTable, element);\n",
              "          const docLink = document.createElement('div');\n",
              "          docLink.innerHTML = docLinkHtml;\n",
              "          element.appendChild(docLink);\n",
              "        }\n",
              "      </script>\n",
              "    </div>\n",
              "  </div>\n",
              "  "
            ]
          },
          "metadata": {},
          "execution_count": 6
        }
      ],
      "source": [
        "df.head()"
      ]
    },
    {
      "cell_type": "code",
      "execution_count": 7,
      "id": "669fda0a",
      "metadata": {
        "id": "669fda0a"
      },
      "outputs": [],
      "source": [
        "dicts = df[categorical].to_dict(orient='records')\n",
        "X_val = dv.transform(dicts)\n",
        "y_pred = lr.predict(X_val)"
      ]
    },
    {
      "cell_type": "code",
      "execution_count": 8,
      "id": "b661daad",
      "metadata": {
        "colab": {
          "base_uri": "https://localhost:8080/"
        },
        "id": "b661daad",
        "outputId": "86819d2b-e26d-49ef-e058-c7f64da73e2b"
      },
      "outputs": [
        {
          "output_type": "execute_result",
          "data": {
            "text/plain": [
              "16.191691679979066"
            ]
          },
          "metadata": {},
          "execution_count": 8
        }
      ],
      "source": [
        "y_pred.mean()"
      ]
    },
    {
      "cell_type": "code",
      "execution_count": 9,
      "id": "bb71af5c",
      "metadata": {
        "id": "bb71af5c"
      },
      "outputs": [],
      "source": [
        "year = 2021\n",
        "month = 2\n",
        "output_file = f'predictions_{year:04d}_{month:02d}.parquet'\n",
        "df_result = pd.DataFrame()\n",
        "df_result['predicted_duration'] = y_pred\n",
        "df_result['ride_id'] = f'{year:04d}/{month:02d}_' + df_result.index.astype('str')"
      ]
    },
    {
      "cell_type": "code",
      "source": [
        "df_result.to_parquet(\n",
        "    output_file,\n",
        "    engine='pyarrow',\n",
        "    compression=None,\n",
        "    index=False\n",
        ")"
      ],
      "metadata": {
        "id": "Xt7_YRw8NUMP"
      },
      "id": "Xt7_YRw8NUMP",
      "execution_count": 10,
      "outputs": []
    },
    {
      "cell_type": "code",
      "source": [
        "df_result"
      ],
      "metadata": {
        "colab": {
          "base_uri": "https://localhost:8080/",
          "height": 424
        },
        "id": "dMWFUda0NbYu",
        "outputId": "29082579-a236-46a6-8e6a-626bb5b03adf"
      },
      "id": "dMWFUda0NbYu",
      "execution_count": 11,
      "outputs": [
        {
          "output_type": "execute_result",
          "data": {
            "text/plain": [
              "        predicted_duration         ride_id\n",
              "0                14.539865       2021/02_0\n",
              "1                13.740422       2021/02_1\n",
              "2                15.593339       2021/02_2\n",
              "3                15.188118       2021/02_3\n",
              "4                13.817206       2021/02_4\n",
              "...                    ...             ...\n",
              "990108           12.433246  2021/02_990108\n",
              "990109           12.910885  2021/02_990109\n",
              "990110           15.834923  2021/02_990110\n",
              "990111           16.783176  2021/02_990111\n",
              "990112           19.654626  2021/02_990112\n",
              "\n",
              "[990113 rows x 2 columns]"
            ],
            "text/html": [
              "\n",
              "  <div id=\"df-8d1d3f57-364c-47b5-bc3e-a258813f7b6f\">\n",
              "    <div class=\"colab-df-container\">\n",
              "      <div>\n",
              "<style scoped>\n",
              "    .dataframe tbody tr th:only-of-type {\n",
              "        vertical-align: middle;\n",
              "    }\n",
              "\n",
              "    .dataframe tbody tr th {\n",
              "        vertical-align: top;\n",
              "    }\n",
              "\n",
              "    .dataframe thead th {\n",
              "        text-align: right;\n",
              "    }\n",
              "</style>\n",
              "<table border=\"1\" class=\"dataframe\">\n",
              "  <thead>\n",
              "    <tr style=\"text-align: right;\">\n",
              "      <th></th>\n",
              "      <th>predicted_duration</th>\n",
              "      <th>ride_id</th>\n",
              "    </tr>\n",
              "  </thead>\n",
              "  <tbody>\n",
              "    <tr>\n",
              "      <th>0</th>\n",
              "      <td>14.539865</td>\n",
              "      <td>2021/02_0</td>\n",
              "    </tr>\n",
              "    <tr>\n",
              "      <th>1</th>\n",
              "      <td>13.740422</td>\n",
              "      <td>2021/02_1</td>\n",
              "    </tr>\n",
              "    <tr>\n",
              "      <th>2</th>\n",
              "      <td>15.593339</td>\n",
              "      <td>2021/02_2</td>\n",
              "    </tr>\n",
              "    <tr>\n",
              "      <th>3</th>\n",
              "      <td>15.188118</td>\n",
              "      <td>2021/02_3</td>\n",
              "    </tr>\n",
              "    <tr>\n",
              "      <th>4</th>\n",
              "      <td>13.817206</td>\n",
              "      <td>2021/02_4</td>\n",
              "    </tr>\n",
              "    <tr>\n",
              "      <th>...</th>\n",
              "      <td>...</td>\n",
              "      <td>...</td>\n",
              "    </tr>\n",
              "    <tr>\n",
              "      <th>990108</th>\n",
              "      <td>12.433246</td>\n",
              "      <td>2021/02_990108</td>\n",
              "    </tr>\n",
              "    <tr>\n",
              "      <th>990109</th>\n",
              "      <td>12.910885</td>\n",
              "      <td>2021/02_990109</td>\n",
              "    </tr>\n",
              "    <tr>\n",
              "      <th>990110</th>\n",
              "      <td>15.834923</td>\n",
              "      <td>2021/02_990110</td>\n",
              "    </tr>\n",
              "    <tr>\n",
              "      <th>990111</th>\n",
              "      <td>16.783176</td>\n",
              "      <td>2021/02_990111</td>\n",
              "    </tr>\n",
              "    <tr>\n",
              "      <th>990112</th>\n",
              "      <td>19.654626</td>\n",
              "      <td>2021/02_990112</td>\n",
              "    </tr>\n",
              "  </tbody>\n",
              "</table>\n",
              "<p>990113 rows × 2 columns</p>\n",
              "</div>\n",
              "      <button class=\"colab-df-convert\" onclick=\"convertToInteractive('df-8d1d3f57-364c-47b5-bc3e-a258813f7b6f')\"\n",
              "              title=\"Convert this dataframe to an interactive table.\"\n",
              "              style=\"display:none;\">\n",
              "        \n",
              "  <svg xmlns=\"http://www.w3.org/2000/svg\" height=\"24px\"viewBox=\"0 0 24 24\"\n",
              "       width=\"24px\">\n",
              "    <path d=\"M0 0h24v24H0V0z\" fill=\"none\"/>\n",
              "    <path d=\"M18.56 5.44l.94 2.06.94-2.06 2.06-.94-2.06-.94-.94-2.06-.94 2.06-2.06.94zm-11 1L8.5 8.5l.94-2.06 2.06-.94-2.06-.94L8.5 2.5l-.94 2.06-2.06.94zm10 10l.94 2.06.94-2.06 2.06-.94-2.06-.94-.94-2.06-.94 2.06-2.06.94z\"/><path d=\"M17.41 7.96l-1.37-1.37c-.4-.4-.92-.59-1.43-.59-.52 0-1.04.2-1.43.59L10.3 9.45l-7.72 7.72c-.78.78-.78 2.05 0 2.83L4 21.41c.39.39.9.59 1.41.59.51 0 1.02-.2 1.41-.59l7.78-7.78 2.81-2.81c.8-.78.8-2.07 0-2.86zM5.41 20L4 18.59l7.72-7.72 1.47 1.35L5.41 20z\"/>\n",
              "  </svg>\n",
              "      </button>\n",
              "      \n",
              "  <style>\n",
              "    .colab-df-container {\n",
              "      display:flex;\n",
              "      flex-wrap:wrap;\n",
              "      gap: 12px;\n",
              "    }\n",
              "\n",
              "    .colab-df-convert {\n",
              "      background-color: #E8F0FE;\n",
              "      border: none;\n",
              "      border-radius: 50%;\n",
              "      cursor: pointer;\n",
              "      display: none;\n",
              "      fill: #1967D2;\n",
              "      height: 32px;\n",
              "      padding: 0 0 0 0;\n",
              "      width: 32px;\n",
              "    }\n",
              "\n",
              "    .colab-df-convert:hover {\n",
              "      background-color: #E2EBFA;\n",
              "      box-shadow: 0px 1px 2px rgba(60, 64, 67, 0.3), 0px 1px 3px 1px rgba(60, 64, 67, 0.15);\n",
              "      fill: #174EA6;\n",
              "    }\n",
              "\n",
              "    [theme=dark] .colab-df-convert {\n",
              "      background-color: #3B4455;\n",
              "      fill: #D2E3FC;\n",
              "    }\n",
              "\n",
              "    [theme=dark] .colab-df-convert:hover {\n",
              "      background-color: #434B5C;\n",
              "      box-shadow: 0px 1px 3px 1px rgba(0, 0, 0, 0.15);\n",
              "      filter: drop-shadow(0px 1px 2px rgba(0, 0, 0, 0.3));\n",
              "      fill: #FFFFFF;\n",
              "    }\n",
              "  </style>\n",
              "\n",
              "      <script>\n",
              "        const buttonEl =\n",
              "          document.querySelector('#df-8d1d3f57-364c-47b5-bc3e-a258813f7b6f button.colab-df-convert');\n",
              "        buttonEl.style.display =\n",
              "          google.colab.kernel.accessAllowed ? 'block' : 'none';\n",
              "\n",
              "        async function convertToInteractive(key) {\n",
              "          const element = document.querySelector('#df-8d1d3f57-364c-47b5-bc3e-a258813f7b6f');\n",
              "          const dataTable =\n",
              "            await google.colab.kernel.invokeFunction('convertToInteractive',\n",
              "                                                     [key], {});\n",
              "          if (!dataTable) return;\n",
              "\n",
              "          const docLinkHtml = 'Like what you see? Visit the ' +\n",
              "            '<a target=\"_blank\" href=https://colab.research.google.com/notebooks/data_table.ipynb>data table notebook</a>'\n",
              "            + ' to learn more about interactive tables.';\n",
              "          element.innerHTML = '';\n",
              "          dataTable['output_type'] = 'display_data';\n",
              "          await google.colab.output.renderOutput(dataTable, element);\n",
              "          const docLink = document.createElement('div');\n",
              "          docLink.innerHTML = docLinkHtml;\n",
              "          element.appendChild(docLink);\n",
              "        }\n",
              "      </script>\n",
              "    </div>\n",
              "  </div>\n",
              "  "
            ]
          },
          "metadata": {},
          "execution_count": 11
        }
      ]
    },
    {
      "cell_type": "code",
      "source": [
        ""
      ],
      "metadata": {
        "id": "6lCtVPnqNcNG"
      },
      "id": "6lCtVPnqNcNG",
      "execution_count": 11,
      "outputs": []
    }
  ],
  "metadata": {
    "kernelspec": {
      "display_name": "Python 3 (ipykernel)",
      "language": "python",
      "name": "python3"
    },
    "language_info": {
      "codemirror_mode": {
        "name": "ipython",
        "version": 3
      },
      "file_extension": ".py",
      "mimetype": "text/x-python",
      "name": "python",
      "nbconvert_exporter": "python",
      "pygments_lexer": "ipython3",
      "version": "3.9.7"
    },
    "colab": {
      "name": "starter.ipynb",
      "provenance": []
    }
  },
  "nbformat": 4,
  "nbformat_minor": 5
}